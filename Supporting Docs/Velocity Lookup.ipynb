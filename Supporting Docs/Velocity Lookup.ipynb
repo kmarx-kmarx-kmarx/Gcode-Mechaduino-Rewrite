{
 "cells": [
  {
   "cell_type": "code",
   "execution_count": 173,
   "metadata": {},
   "outputs": [],
   "source": [
    "import math as ma\n",
    "import matplotlib.pyplot as plt\n",
    "import numpy as np\n",
    "\n",
    "def lerp(x, xmin, xmax, ymin, ymax):\n",
    "    # Linear interpolation from x to y\n",
    "    return (x - xmin) * (ymax - ymin) / (xmax - xmin) + ymin;\n",
    "\n",
    "def sgn(a, b):\n",
    "    return int(a>b) - int(a<b)\n",
    "\n",
    "def v_cts(v0, vf, x0, xf, x):\n",
    "    sign = sgn(xf, x0)   # sign - which direction we are going\n",
    "    v0 = v0 * sign       # initial and final v with proper direction\n",
    "    vf = vf * sign\n",
    "    dv = vf - v0         # delta V\n",
    "    dx = xf - x0         # delta X\n",
    "    dxi = x0 - x         # displacement from starting point\n",
    "    vi = v0 + dv/2.0     # intermeidiate value\n",
    "    ac = (dv * dx) / vi  # acceleration\n",
    "    \n",
    "    # Handle zero acceleration case\n",
    "    if(ac == 0 and x > x0 and x < xf):\n",
    "        return v0\n",
    "    # Handle case where we hit end\n",
    "    if (sign * x > sign * xf):\n",
    "        return 0.0\n",
    "    # If we are behind our initial point, act as though we are at the initial point - correct for small errors\n",
    "    x = x0 if (sign * x0 > sign * x) else x\n",
    "    \n",
    "    # Calculate our estimated time as a function of position\n",
    "    t_est = abs(vi/(dv*dx) * (-sign*v0 + ma.sqrt(v0**2 - 2*dv*vi*dxi/dx)))\n",
    "    \n",
    "    v_out = v0 + ac * t_est\n",
    "    \n",
    "       \n",
    "    return v_out\n",
    "\n",
    "def pos_list(x0, xf, n):\n",
    "    xe = (xf-x0)*float(n)/float(n+1) + x0\n",
    "    pos = [lerp(i, 0, n, x0, xe) for i in range(n)]\n",
    "    \n",
    "    return pos\n",
    "\n",
    "def v_list(v0, vf, x0, xf, n):\n",
    "    xe = (xf-x0)*float(n)/float(n+1) + x0\n",
    "    v = [v_cts(v0, vf, x0, xe, x) for x in pos_list(x0, xf, n-1)]\n",
    "    v.append(vf)\n",
    "    \n",
    "    return v\n",
    "\n",
    "def x_t(vlist, x0, xf, t):\n",
    "    sign = sgn(xf, x0)\n",
    "    n = len(vlist)\n",
    "    dx = (xf-x0)/n\n",
    "    \n",
    "    t_list = [dx/v for v in vlist]\n",
    "    t_list = [0.0] + t_list\n",
    "    \n",
    "    idx = -1\n",
    "    for i in range(n):\n",
    "        if(t < sum(t_list[0:(i+1)])):\n",
    "            idx = i-1\n",
    "            break\n",
    "    \n",
    "    x = xf if idx < 0 else min(idx*dx + (t-sum(t_list[0: idx+1]))*vlist[idx], (idx+1)*dx) \n",
    "    \n",
    "    return x\n",
    "\n",
    "def x_t_ideal(v0, vf, x0, xf, t):\n",
    "    sign = sgn(xf, x0)\n",
    "    dv = vf - v0         # delta V\n",
    "    dx = xf - x0         # delta X\n",
    "    vi = v0 + dv/2.0     # intermeidiate value\n",
    "    ac = (dv * dx) / vi  # acceleration\n",
    "    \n",
    "    x = x0 + v0*t + ac * t**2 /2\n",
    "    \n",
    "    if(sign * x > sign * xf):\n",
    "        return xf\n",
    "    else:\n",
    "        return x\n",
    "\n",
    "def plot_out(v0, vf, x0, xf, n, m):\n",
    "    vl = v_list(v0, vf, x0, xf, n)\n",
    "    \n",
    "    sign = sgn(xf, x0)   # sign - which direction we are going\n",
    "    signa = sgn(vf, v0)\n",
    "    v0 = v0 * sign       # initial and final v with proper direction\n",
    "    vf = vf * sign\n",
    "    dv = vf - v0         # delta V\n",
    "    dx = xf - x0         # delta X\n",
    "    vi = v0 + dv/2.0     # intermeidiate value\n",
    "    ac = (dv * dx) / vi  # acceleration\n",
    "    \n",
    "    # Calculate end time\n",
    "    tf = 3 * ((-v0 + ma.sqrt(v0**2 + 2*ac*dx)) / ac)\n",
    "        \n",
    "    # Create time axis\n",
    "    t = np.linspace(0, tf, m)\n",
    "    \n",
    "    # Calculate ideal position values\n",
    "    x_ideal = [x_t_ideal(v0, vf, x0, xf, ti) for ti in t]\n",
    "    # Caclualte approx. position values\n",
    "    x_apprx = [x_t(vl, x0, xf, ti) for ti in t]\n",
    "    \n",
    "    \n",
    "    plt.plot(t, x_ideal)\n",
    "    plt.show() \n",
    "    plt.plot(t, x_apprx)\n",
    "    plt.show() "
   ]
  },
  {
   "cell_type": "code",
   "execution_count": 176,
   "metadata": {},
   "outputs": [
    {
     "data": {
      "image/png": "[encoded data removed]",
      "text/plain": [
       "<Figure size 432x288 with 1 Axes>"
      ]
     },
     "metadata": {
      "needs_background": "light"
     },
     "output_type": "display_data"
    },
    {
     "data": {
      "image/png": "[encoded data removed]",
      "text/plain": [
       "<Figure size 432x288 with 1 Axes>"
      ]
     },
     "metadata": {
      "needs_background": "light"
     },
     "output_type": "display_data"
    }
   ],
   "source": [
    "x0 = 0\n",
    "xf = 10\n",
    "v0 = 0.1\n",
    "vf = 10\n",
    "n = 1024\n",
    "m = 3*n\n",
    "plot_out(v0, vf, x0, xf, n, m)"
   ]
  },
  {
   "cell_type": "code",
   "execution_count": null,
   "metadata": {},
   "outputs": [],
   "source": []
  }
 ],
 "metadata": {
  "kernelspec": {
   "display_name": "Python 3",
   "language": "python",
   "name": "python3"
  },
  "language_info": {
   "codemirror_mode": {
    "name": "ipython",
    "version": 3
   },
   "file_extension": ".py",
   "mimetype": "text/x-python",
   "name": "python",
   "nbconvert_exporter": "python",
   "pygments_lexer": "ipython3",
   "version": "3.8.5"
  }
 },
 "nbformat": 4,
 "nbformat_minor": 4
}
